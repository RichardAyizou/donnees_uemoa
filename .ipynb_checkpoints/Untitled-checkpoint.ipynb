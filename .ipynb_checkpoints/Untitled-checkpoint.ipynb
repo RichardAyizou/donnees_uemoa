{
 "cells": [
  {
   "cell_type": "code",
   "execution_count": 1,
   "id": "52a11efd",
   "metadata": {},
   "outputs": [],
   "source": [
    "import sys\n",
    "sys.path.append('./macrobceao/')\n",
    "from macrobceao.bceao import *"
   ]
  },
  {
   "cell_type": "code",
   "execution_count": 2,
   "id": "ceb115eb",
   "metadata": {},
   "outputs": [],
   "source": [
    "import pathlib\n",
    "import dash\n",
    "from dash import dcc, html, dash_table\n",
    "import dash_bootstrap_components as dbc\n",
    "from dash.dependencies import Input, Output\n",
    "import dash_daq as daq\n",
    "import pandas as pd\n",
    "import plotly.express as px\n",
    "from datetime import date\n"
   ]
  },
  {
   "cell_type": "code",
   "execution_count": 3,
   "id": "8efc9a60",
   "metadata": {},
   "outputs": [],
   "source": [
    "today = date.today()\n",
    "updateDate = today.strftime(\"%m/%d/%y\")\n"
   ]
  },
  {
   "cell_type": "code",
   "execution_count": 4,
   "id": "328a9d99",
   "metadata": {},
   "outputs": [],
   "source": [
    "#---------------------------------------ENTETE-----------------------------------------------------------\n",
    "entete = html.Div([\n",
    "    dbc.Row([\n",
    "        dbc.Col([\n",
    "            html.H5(\"Economie de l'UEMOA\")\n",
    "        ], style={'color':'aliceblue'})\n",
    "    ], style={'margin':'20px 0px 5px 0px'}),\n",
    "#     dbc.Row([\n",
    "#         dbc.Col(),\n",
    "#         dbc.Col([\n",
    "#             dbc.Nav([\n",
    "#                 dbc.NavItem(dbc.NavLink(\"Accueil\", active=\"exact\", href=\"/\")),\n",
    "#                 dbc.NavItem(dbc.NavLink(\"Evaluations\", active=\"exact\", href=\"/evaluations\")),\n",
    "#                 dbc.NavItem(dbc.NavLink(\"Enseignements\", active=\"exact\", href=\"/enseignements\")),\n",
    "#                 dbc.NavItem(dbc.NavLink(\"Absences\", active=\"exact\", href=\"/absences\")),\n",
    "#                 dbc.NavItem(dbc.NavLink(\"A Propos\", active=\"exact\", href=\"/apropos\")),\n",
    "#             ], pills=True, fill=True, style={'float': 'center'})\n",
    "#         ], width=8),\n",
    "#         dbc.Col()\n",
    "#     ])\n",
    "], style={\n",
    "    'position': 'fixed',\n",
    "    'top': 0,\n",
    "    'left': 0,\n",
    "    'right': 0,\n",
    "    #'height': '100px',\n",
    "    'background': 'black',\n",
    "    'font-family': 'serif',\n",
    "    'margin-bottom': '30px'\n",
    "})"
   ]
  },
  {
   "cell_type": "code",
   "execution_count": 5,
   "id": "bcc3b32c",
   "metadata": {},
   "outputs": [],
   "source": [
    "#---------------------------------------PIED DE PAGE-----------------------------------------------------------\n",
    "piedpage = html.Div([\n",
    "    dbc.Row([\n",
    "        dbc.Col([\n",
    "            html.H3(\"La plateforme ENSAE Dakar / ISE3-2023\"),\n",
    "            html.Hr(),\n",
    "            html.P(\"Elle est conçue pour le suivi des enseignements et faciliter les rappels des tâches à \"\n",
    "                   \"réaliser. Elle s'adresse principalement aux étudiants de la promo ISE 2020-2023 \"\n",
    "                   \"mais reste accessible à toute personne disposant du lien.\")\n",
    "        ], style={'text-align': 'justify'})\n",
    "    ]),\n",
    "], style={\n",
    "    'width': '100%',\n",
    "    'height': '230px',\n",
    "    'background': 'Gray',\n",
    "    'font-family': 'serif',\n",
    "    'margin-top': '15px'\n",
    "})"
   ]
  },
  {
   "cell_type": "code",
   "execution_count": 34,
   "id": "c2dbae8e",
   "metadata": {},
   "outputs": [],
   "source": [
    "accueil = html.Div([\n",
    "    dbc.Row([\n",
    "        dbc.Col([\n",
    "            dbc.Row([\n",
    "                dbc.Col([\n",
    "                    dbc.Card([\n",
    "                        dbc.CardHeader([html.H5(\"Population\")],\n",
    "                                       style={'background': 'RoyalBlue', 'color': 'GhostWhite'}),\n",
    "                        dbc.CardBody([\n",
    "                                    daq.LEDDisplay(value=149217513025, size=16, color=\"#ed3702\")\n",
    "                                ], style={'text-align': 'center',})\n",
    "                    ])\n",
    "                ], xs=12, sm=12, lg=3, xl=3),\n",
    "                dbc.Col([\n",
    "                    dbc.Card([\n",
    "                        dbc.CardHeader([html.H5(\"PIB\")],\n",
    "                                       style={'background': 'RoyalBlue', 'color': 'GhostWhite'}),\n",
    "                        dbc.CardBody([\n",
    "                                    daq.LEDDisplay(value=90, color=\"#228B22\")\n",
    "                                ], style={'text-align': 'center',})\n",
    "                    ])\n",
    "                ]),\n",
    "                dbc.Col([\n",
    "                    dbc.Card([\n",
    "                        dbc.CardHeader([html.H5(\"PIB par habitant\")],\n",
    "                                       style={'background': 'RoyalBlue', 'color': 'GhostWhite'}),\n",
    "                        dbc.CardBody([\n",
    "                                    daq.LEDDisplay(value=90, color=\"#228B22\")\n",
    "                                ], style={'text-align': 'center',})\n",
    "                    ])\n",
    "                ]),\n",
    "                dbc.Col([\n",
    "                    dbc.Card([\n",
    "                        dbc.CardHeader([html.H5(\"Inflation\")],\n",
    "                                       style={'background': 'RoyalBlue', 'color': 'GhostWhite'}),\n",
    "                        dbc.CardBody([\n",
    "                                    daq.LEDDisplay(value=3.5, color=\"#228B22\")\n",
    "                                ], style={'text-align': 'center',})\n",
    "                    ])\n",
    "                ], xs=12, sm=12, lg=3, xl=3)\n",
    "            ])\n",
    "        ])\n",
    "    ], style={'margin-top': '10px'})\n",
    "], style={'font-family': 'serif'})"
   ]
  },
  {
   "cell_type": "code",
   "execution_count": null,
   "id": "936601b9",
   "metadata": {},
   "outputs": [],
   "source": []
  },
  {
   "cell_type": "code",
   "execution_count": 35,
   "id": "8989cbb4",
   "metadata": {},
   "outputs": [],
   "source": [
    "container = html.Div(\n",
    "    id=\"container\",\n",
    "    children=accueil,\n",
    "    style={'margin-top': '70px', 'padding': '0px 30px'})"
   ]
  },
  {
   "cell_type": "code",
   "execution_count": 36,
   "id": "802cbaba",
   "metadata": {},
   "outputs": [
    {
     "name": "stdout",
     "output_type": "stream",
     "text": [
      "Dash is running on http://127.0.0.1:8050/\n",
      "\n",
      "Dash is running on http://127.0.0.1:8050/\n",
      "\n",
      "Dash is running on http://127.0.0.1:8050/\n",
      "\n",
      "Dash is running on http://127.0.0.1:8050/\n",
      "\n",
      "Dash is running on http://127.0.0.1:8050/\n",
      "\n",
      "Dash is running on http://127.0.0.1:8050/\n",
      "\n",
      "Dash is running on http://127.0.0.1:8050/\n",
      "\n",
      "Dash is running on http://127.0.0.1:8050/\n",
      "\n",
      "Dash is running on http://127.0.0.1:8050/\n",
      "\n",
      "Dash is running on http://127.0.0.1:8050/\n",
      "\n",
      "Dash is running on http://127.0.0.1:8050/\n",
      "\n",
      "Dash is running on http://127.0.0.1:8050/\n",
      "\n",
      "Dash is running on http://127.0.0.1:8050/\n",
      "\n",
      " * Serving Flask app \"__main__\" (lazy loading)\n",
      " * Environment: production\n",
      "   WARNING: This is a development server. Do not use it in a production deployment.\n",
      "   Use a production WSGI server instead.\n",
      " * Debug mode: off\n"
     ]
    },
    {
     "name": "stderr",
     "output_type": "stream",
     "text": [
      " * Running on http://127.0.0.1:8050/ (Press CTRL+C to quit)\n",
      "127.0.0.1 - - [12/Sep/2024 02:28:46] \"\u001b[37mGET / HTTP/1.1\u001b[0m\" 200 -\n",
      "127.0.0.1 - - [12/Sep/2024 02:28:46] \"\u001b[37mGET /_dash-layout HTTP/1.1\u001b[0m\" 200 -\n",
      "127.0.0.1 - - [12/Sep/2024 02:28:46] \"\u001b[37mGET /_dash-dependencies HTTP/1.1\u001b[0m\" 200 -\n",
      "127.0.0.1 - - [12/Sep/2024 02:28:46] \"\u001b[37mGET /_favicon.ico?v=2.7.0 HTTP/1.1\u001b[0m\" 200 -\n"
     ]
    }
   ],
   "source": [
    "#------------------------------------------APPLICATION-----------------------------------------------\n",
    "app = dash.Dash(__name__,external_stylesheets=[dbc.themes.MATERIA], suppress_callback_exceptions=True)\n",
    "server = app.server\n",
    "\n",
    "\n",
    "app.layout = html.Div(children=[\n",
    "    container,\n",
    "    entete\n",
    "\n",
    "])\n",
    "\n",
    "app.title=\"Test\"\n",
    "if __name__ == \"__main__\":\n",
    "    app.run_server(debug=False)"
   ]
  },
  {
   "cell_type": "code",
   "execution_count": null,
   "id": "0804ac7d",
   "metadata": {},
   "outputs": [],
   "source": []
  }
 ],
 "metadata": {
  "kernelspec": {
   "display_name": "Python 3",
   "language": "python",
   "name": "python3"
  },
  "language_info": {
   "codemirror_mode": {
    "name": "ipython",
    "version": 3
   },
   "file_extension": ".py",
   "mimetype": "text/x-python",
   "name": "python",
   "nbconvert_exporter": "python",
   "pygments_lexer": "ipython3",
   "version": "3.8.8"
  }
 },
 "nbformat": 4,
 "nbformat_minor": 5
}
